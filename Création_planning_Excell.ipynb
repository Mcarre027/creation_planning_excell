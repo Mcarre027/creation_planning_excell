{
  "nbformat": 4,
  "nbformat_minor": 0,
  "metadata": {
    "colab": {
      "provenance": [],
      "authorship_tag": "ABX9TyPz3DEJAUQOvCwm48RJ2e/5",
      "include_colab_link": true
    },
    "kernelspec": {
      "name": "python3",
      "display_name": "Python 3"
    },
    "language_info": {
      "name": "python"
    }
  },
  "cells": [
    {
      "cell_type": "markdown",
      "metadata": {
        "id": "view-in-github",
        "colab_type": "text"
      },
      "source": [
        "<a href=\"https://colab.research.google.com/github/Mcarre027/creation_planning_excell/blob/main/Cr%C3%A9ation_planning_Excell.ipynb\" target=\"_parent\"><img src=\"https://colab.research.google.com/assets/colab-badge.svg\" alt=\"Open In Colab\"/></a>"
      ]
    },
    {
      "cell_type": "code",
      "source": [
        "import pandas as pd\n",
        "from openpyxl import Workbook\n",
        "from openpyxl.styles import Border, Side, Alignment, Font\n",
        "from openpyxl.utils.dataframe import dataframe_to_rows\n",
        "from openpyxl.utils import get_column_letter\n",
        "\n",
        "#### ---------------------------------------------------\n",
        "#### GÉNÉRATION D'UN PLANNING HEBDOMADAIRE AUTOMATISÉ\n",
        "#### ---------------------------------------------------\n",
        "#### Ce script crée un planning de 8h à 18h, du lundi au dimanche.\n",
        "#### Le tableau est propre, exporté en Excel, avec cases centrées, bordées,\n",
        "#### et un titre clair \"Planning Hebdomadaire\".\n",
        "\n",
        "\n",
        "# --- Création des données ---\n",
        "jours = [\"Lundi\", \"Mardi\", \"Mercredi\", \"Jeudi\", \"Vendredi\", \"Samedi\", \"Dimanche\"]\n",
        "heures = [f\"{h}h\" for h in range(8, 19)]\n",
        "\n",
        "# DataFrame vide avec cellules vides\n",
        "data = [[\"\" for _ in jours] for _ in heures]\n",
        "planning = pd.DataFrame(data, columns=jours)\n",
        "planning.insert(0, \"Heures\", heures)\n",
        "\n",
        "\n",
        "#### ---------------------------------------------------\n",
        "#### MODIFIER ICI LES CRÉNEAUX DE VOTRE PLANNING 👇\n",
        "#### Exemple : pour ajouter un rendez-vous le lundi à 9h,\n",
        "####          planning.loc[planning[\"Heures\"] == \"9h\", \"Lundi\"] = \"Réunion équipe\"\n",
        "#### Tu peux également copier et coller de nouvelle lignes\n",
        "#### pour ajouter des créneaux en respectant les \"\" pour chaque heures,jours et actrivité.\n",
        "#### ---------------------------------------------------\n",
        "\n",
        "# --- Remplissage des créneaux hebdomadaires ---\n",
        "planning.loc[planning[\"Heures\"] == \"9h\", \"Lundi\"] = \"Réunion équipe\"\n",
        "planning.loc[planning[\"Heures\"] == \"14h\", \"Mardi\"] = \"Sport\"\n",
        "planning.loc[planning[\"Heures\"] == \"10h\", \"Mercredi\"] = \"Courses\"\n",
        "planning.loc[planning[\"Heures\"] == \"16h\", \"Jeudi\"] = \"Projet perso\"\n",
        "planning.loc[planning[\"Heures\"] == \"11h\", \"Vendredi\"] = \"Call client\"\n",
        "planning.loc[planning[\"Heures\"] == \"10h\", \"Samedi\"] = \"Sortie enfants\"\n",
        "planning.loc[planning[\"Heures\"] == \"17h\", \"Dimanche\"] = \"Préparer la semaine\"\n",
        "\n",
        "# --- Création du fichier Excel formaté ---\n",
        "wb = Workbook()\n",
        "ws = wb.active\n",
        "ws.title = \"Planning Hebdo\"\n",
        "\n",
        "# Titre sans annotation \"Vue Propre\"\n",
        "ws.merge_cells('A1:I1')\n",
        "ws['A1'] = \"Planning Hebdomadaire\"\n",
        "ws['A1'].alignment = Alignment(horizontal=\"center\")\n",
        "ws['A1'].font = Font(bold=True, size=14)\n",
        "\n",
        "# Insertion du tableau à partir de la ligne 3\n",
        "for r_idx, row in enumerate(dataframe_to_rows(planning, index=False, header=True), start=3):\n",
        "    for c_idx, value in enumerate(row, start=1):\n",
        "        cell = ws.cell(row=r_idx, column=c_idx, value=value)\n",
        "        cell.alignment = Alignment(horizontal=\"center\", vertical=\"center\")\n",
        "        cell.border = Border(\n",
        "            left=Side(style='thin'),\n",
        "            right=Side(style='thin'),\n",
        "            top=Side(style='thin'),\n",
        "            bottom=Side(style='thin')\n",
        "        )\n",
        "        # Gras pour les entêtes et les heures\n",
        "        if r_idx == 3 or c_idx == 1:\n",
        "            cell.font = Font(bold=True)\n",
        "\n",
        "# Ajustement automatique de la largeur des colonnes\n",
        "for i, col in enumerate(ws.iter_cols(min_row=3, max_row=ws.max_row), start=1):\n",
        "    max_length = 0\n",
        "    for cell in col:\n",
        "        if cell.value:\n",
        "            max_length = max(max_length, len(str(cell.value)))\n",
        "    ws.column_dimensions[get_column_letter(i)].width = max_length + 2\n",
        "\n",
        "# --- Sauvegarde du fichier ---\n",
        "wb.save(\"Planning_Hebdomadaire_CleanFinal.xlsx\")\n",
        "\n",
        "# --- Téléchargemnt auto fichier ---\n",
        "from google.colab import files\n",
        "files.download(\"Planning_Hebdomadaire_CleanFinal.xlsx\")\n"
      ],
      "metadata": {
        "colab": {
          "base_uri": "https://localhost:8080/",
          "height": 17
        },
        "id": "jsp-goIQ_8e3",
        "outputId": "9367e593-d5f4-4bc8-debf-7cc9ff84602c"
      },
      "execution_count": 6,
      "outputs": [
        {
          "output_type": "display_data",
          "data": {
            "text/plain": [
              "<IPython.core.display.Javascript object>"
            ],
            "application/javascript": [
              "\n",
              "    async function download(id, filename, size) {\n",
              "      if (!google.colab.kernel.accessAllowed) {\n",
              "        return;\n",
              "      }\n",
              "      const div = document.createElement('div');\n",
              "      const label = document.createElement('label');\n",
              "      label.textContent = `Downloading \"${filename}\": `;\n",
              "      div.appendChild(label);\n",
              "      const progress = document.createElement('progress');\n",
              "      progress.max = size;\n",
              "      div.appendChild(progress);\n",
              "      document.body.appendChild(div);\n",
              "\n",
              "      const buffers = [];\n",
              "      let downloaded = 0;\n",
              "\n",
              "      const channel = await google.colab.kernel.comms.open(id);\n",
              "      // Send a message to notify the kernel that we're ready.\n",
              "      channel.send({})\n",
              "\n",
              "      for await (const message of channel.messages) {\n",
              "        // Send a message to notify the kernel that we're ready.\n",
              "        channel.send({})\n",
              "        if (message.buffers) {\n",
              "          for (const buffer of message.buffers) {\n",
              "            buffers.push(buffer);\n",
              "            downloaded += buffer.byteLength;\n",
              "            progress.value = downloaded;\n",
              "          }\n",
              "        }\n",
              "      }\n",
              "      const blob = new Blob(buffers, {type: 'application/binary'});\n",
              "      const a = document.createElement('a');\n",
              "      a.href = window.URL.createObjectURL(blob);\n",
              "      a.download = filename;\n",
              "      div.appendChild(a);\n",
              "      a.click();\n",
              "      div.remove();\n",
              "    }\n",
              "  "
            ]
          },
          "metadata": {}
        },
        {
          "output_type": "display_data",
          "data": {
            "text/plain": [
              "<IPython.core.display.Javascript object>"
            ],
            "application/javascript": [
              "download(\"download_fa26a117-67e9-4c07-bd48-15936e77bdc9\", \"Planning_Hebdomadaire_CleanFinal.xlsx\", 5574)"
            ]
          },
          "metadata": {}
        }
      ]
    }
  ]
}